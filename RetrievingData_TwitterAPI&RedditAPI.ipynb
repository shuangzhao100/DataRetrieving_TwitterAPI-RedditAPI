{
 "cells": [
  {
   "cell_type": "markdown",
   "id": "c7bdfc15",
   "metadata": {},
   "source": [
    "## Collecting Twitter data related to the Ukraine war"
   ]
  },
  {
   "cell_type": "code",
   "execution_count": 2,
   "id": "00526d4e",
   "metadata": {},
   "outputs": [],
   "source": [
    "# Load packages\n",
    "import tweepy\n",
    "import config\n",
    "import requests\n",
    "import csv\n",
    "import pandas as pd\n",
    "import pprint\n",
    "import datetime"
   ]
  },
  {
   "cell_type": "code",
   "execution_count": 3,
   "id": "1a39621d",
   "metadata": {},
   "outputs": [],
   "source": [
    "# Authotification\n",
    "client = tweepy.Client(bearer_token = config.BEARER_TOKEN)"
   ]
  },
  {
   "cell_type": "code",
   "execution_count": 45,
   "id": "d2de3580",
   "metadata": {
    "scrolled": true
   },
   "outputs": [
    {
     "name": "stdout",
     "output_type": "stream",
     "text": [
      "baixando a última de killing eve n tô pronto\n",
      "bought all seasons of killing eve on dvd &lt;33 don’t know why people talking about a “season 4” https://t.co/A5vjlXArQj\n",
      "The Split and Killing Eve are over — but finishing a show is notoriously hard to pull off. What are the rules for a successful end? @SArmstrong1984 finds out \n",
      "https://t.co/zcUMnirThh\n",
      "'Villanelle will be back!' Killing Eve's author speaks out over the catastrophic TV finale https://t.co/jveOMI1rLX\n",
      "the ending of killing eve has actually made me so depressed lmaoooo and very mad cause why did it not end like the books bro ?? I feel like I’m dealing with a break up lmaoo\n",
      "📺 KILLING EVE - SEASON 4 (2022) ⭐️⭐️½ https://t.co/WpGojGNTGA\n",
      "@emmanataniayee have you seen killing eve? i’m watching it now and i’m obsessed\n",
      "https://t.co/l8ZuskVydW\n",
      "\n",
      "@KillingEve @AMC_TV @BBCAMERICA @sidgentlefilms \n",
      "\n",
      "#killingeve #villaneve #villanelle #villanelledeservedbetter https://t.co/1fP0yp3hlP\n",
      "é tão triste acordar no domingo e não ver a tml surtando por killing eve https://t.co/4UzSeBVic4\n",
      "Killing Eve Author Slams TV Show’s Final Episode https://t.co/am6t0poUjP\n",
      "villanelle lana del rey season 3 killing eve hot fc lesbian https://t.co/4EbFGKewDi\n",
      "I dunno if I haven't paid attention, but the last series of Killing Eve has confused the fuck outta me 🤔\n",
      "@lorenaeffe Qué ganas! No he visto ni el final de Killing Eve aún 😱😱😱\n",
      "โควททวิตบอกกันหน่อยว่าถ้า ...(โชว์รันเนอร์/คนเขียนบทหญิง)... มาเขียนบท Killing Eve season 4 มันจะออกมาเป็นยังไงกันบ้าง \n",
      "\n",
      "#SmellMeEve\n",
      "my brain needed a break so i switched from killing eve to a freaking flight attendant on hbo now im so done\n",
      "Autor dos livros DETONA o final da série ‘Killing Eve’: “Pareceu uma punição” https://t.co/014G8IvSFf via @cinepop\n",
      "falta 2 eps pra eu terminar heartstopper e 2 eps pra eu terminar killing eve 🤕\n",
      "แต่ลิซซี่ยังไม่ได้ดู Killing Eve season 4 อะ น้องบอกว่า น้องหลบสปอยล์เก่งนะ เอ้อ เอากับเขาสิ\n",
      "\n",
      "https://t.co/NiIYV02rZY\n",
      "Esquecer o fracasso de Killing Eve e a mesma coisa de um final de relacionamento e com o tempo mesmo.\n",
      "minha vida aqui agora é só reclamar de killing eve e repostar cenas villaneve\n",
      "gna go home smoke weed n watch killing eve\n",
      "Czy ja właśnie włączyłam killing eve a powinnam się uczyć na spr który mam jutro? Tak dokładnie\n",
      "solo he visto la primera temporada de killing eve y ya sé que va a ser de mis series favoritas\n",
      "putangina where can I watch killing eve ba??? Tf.\n",
      "@hulu damn you for not being available in the phils🥴\n",
      "villaneve killing eve finale thasmin lotsd fancam edit https://t.co/3VDNx49v9d\n",
      "She clears that one puta from killing eve with ease btw https://t.co/agJi6JCLPf\n",
      "It’s been only 2 weeks since Killing Eve ended but feels like months ago https://t.co/GheaKnKBnz\n",
      "Missing killing eve season 1 and season 2 on this sunny sunday\n",
      "The insane urge di fare un rewatch delle S1 e 2 di Killing Eve\n",
      "@zarisdonut And Phoebe will use Killing Eve season 4 as a What Not To Do.\n",
      "domingo me fazendo refletir sobre ke e sem dúvida alguma LN e ninguém será capaz de estragar killing eve. next https://t.co/ufMGEn8QXh\n",
      "a killing eve movie written and directed by phoebe waller-bridge. we’d love to see it.\n",
      "killing eve i’m looking at you.\n",
      "Killing Eve helped me fight my battle with alcohol addiction | @sam_thomas86 https://t.co/PR2tOEn2tC\n",
      "Show’s name is killing eve but everyone except for eve dies yeh kya hai\n",
      "killing eve \n",
      "criminal minds\n",
      "how i met your mother\n",
      "911\n",
      "dead to me\n",
      "b99 \n",
      "parks and rec\n",
      "heartstopper\n",
      "fleabag\n",
      "grey's https://t.co/p1Qnjuc5Fz\n",
      "it's been two weeks and I still cry anytime I see a killing eve video\n",
      "I'm going to the cinema today. Which means I'll finally watch something not killing eve related. Which means I'm moving on. Which means fuck laura neal. Which means Villanelle and Eve are living in Alaska rn. Which mea-\n",
      "@dearstargirI eu tava querendo ver killing eve dai vi o final e falei 'hm nao'\n",
      "(not in order)\n",
      "parks and rec\n",
      "community\n",
      "new girl\n",
      "killing eve \n",
      "wanda vision \n",
      "fleabag \n",
      "russian doll\n",
      "greys anatomy \n",
      "friends\n",
      "good girls https://t.co/dyjxOKNHFj\n",
      "@thekatyrex Killing Eve has me by the neck. Tbh. Im not even ready to finish watching it haha\n",
      "I've just watched episode S04 | E04 - It’s Agony and I’m Ravenous of Killing Eve! #killingeve  https://t.co/Xwxa81D15P #tvtime https://t.co/ymIlBlitRE\n",
      "modern family\n",
      "criminal minds\n",
      "the good place\n",
      "killing eve\n",
      "brooklyn nine nine\n",
      "parks and rec\n",
      "wandavision\n",
      "the haunting of hill house\n",
      "anne with an e\n",
      "the queens gambit https://t.co/tf4zZbKSIR\n",
      "20. Killing Eve, Season 1 (2018)\n",
      "\n",
      "lesbians will literally try to kill each other multiple times instead of going on a date. villanelle is an extremely entertaining psychopath. https://t.co/i0lwLnzT10\n",
      "Comecei a season 4 de killing eve de madrugada e faltam só dois ep pra acabar eu n to preparada pra dizer adeus as minhas esposas 😭🤧\n",
      "Elizabeth Olsen and Jodie Comer were in the same room!!!! And lizzie is a killing eve fan☺️ wow https://t.co/NM2K7sk7Ta\n",
      "looking through my semi-abandoned killing eve tumblr and i used to try so hard to have an aesthetic and so much hope. it's like the perfect time capsule of my s3 denial\n",
      "Two long weeks since the Killing Eve's series finale... \n",
      "Me: https://t.co/tUOgvWgxGv\n",
      "อยากให้สปรีใช้เวิร์คล้างสมองให้เราลืมตอนจบ Killing Eve จังค่ะ ให้น้องแทลเอาแส้ตีหัวจนเบลอก็ยอม สองวีคแล้วยังคงทริกเกอร์\n",
      "Will watch killing eve anf sleep fuck everything\n",
      "Vai ter 5 temporada de killing eve?\n",
      "'A Roda do Tempo': Atriz de 'Killing Eve' é escalada em importante papel na 2ª temporada; Confira! - https://t.co/aFH9ceQIg1 https://t.co/j1DcSqCUth\n",
      "\"nossa vou asssitir serie pra esquecer killing eve\" eu disse https://t.co/s0E5koaoES\n",
      "@KarenHewitt11 @TacosAreTxsty The religious symbolism and references were too much. Just felt so out of place from the previous 3 seasons and (in my opinion) didn't fit in the Killing Eve universe...\n",
      "killing eve ;)))\n",
      "@binbabyKE killing eve lol but take it how you will\n",
      "Am I the only one that doesn't have it in them to watch Killing Eve again right now? All because of a shitty ending 😒\n",
      "@we_r_colleagues I feel the same about Kath and Kim😂 or do you mean Killing Eve\n",
      "nah bc if killing eve stan twitter actually has a boat party, the stores in london are going to sell out of pineapple and cranberry juice the day before\n",
      "Killing Eve will always have a special place in my heart but it hurts too much to think about it rn.\n",
      "Just watched the killing eve ending and I’m devastated…I literally have no words to express how numb I feel rn.\n",
      "almost a week I've been trying to write a killing eve fic, this is embarrassing, I used to be a journalist. does it get easier?\n",
      "started watching killing eve again\n",
      "mais um domingo triste e vazio sem episódio novo de killing eve... https://t.co/xk3i9RyYBJ\n",
      "https://t.co/ufRUk5ad3y\n",
      "hear me out. a killing eve movie directed by phoebe waller-bridge, starring jodie comer, sandra oh, fiona shaw, kim bodnia. the real story of villanelle and eve. truthful to villaneve. with the real ending.\n",
      "@KHAOTlC OMH AWEEE THATS SO FREAKING CUTE OF YOU IF I WAS THERE I WOULD GIVE YOU LOTS OF HUGS TOO!! I HOPE YOU STOMACH GETS BETTER SOON &lt;3 YES KILLING EVE IS SO FUN I LOVE IT!!! BTW WHAT EPISODE ARE YOU ON IN MHA???\n",
      "@liraelsao3 agree!! &amp; I know you're talking from the eve angle (as u should) but it also makes sense from the v angle in the sense that imo her pleasure from killing has an element of conditioned-ness to it? only outlet re: control/emotion even from childhood &amp; eve doesn't have that wiring\n",
      "@Joannechocolat Thread about all the things killing eve didn’t do with its ending.! #killingeve @KillingEve\n",
      "@liraelsao3 YEEEEEEEEEEEEEEEEEEEEEEEEEEEEES! a friend of mine said that eve's pleasure derives from hurting people, not killing like Vs\n",
      "@ilbubbline AWWWWWE NO :( I WISH I COULD BE THERE TO GIVE YOU LOTS OF HUGS🫂🫂🫂 AND WATCHING KILLING EVE SOUNDS SO FUN 🕺 IM DOIN OKAY I JUST WOKE UP AND MY STOMACH HURTS??? WEIRD BUT NOW IM WATCHING MY HERO ACADEMIA ☝🏼☝🏼 TY FOR ASKING ILY\n",
      "what is the theme of killing eve, anyway? what are we supposed to take away from that ending? that lesbians deserve to die? that being \"normal\" is the only acceptable way to live?\n",
      "@invictumsuga It's been a while since I watched a series coz I'm not in that headspace but the last I saw that I liked were Hanna, Killing Eve, The Boys &amp; Wheel of Time and they're all in Amazon.\n",
      "50. killing eve (T4) •8,75/10 https://t.co/yK4uUESfFe\n",
      "@KillingEve @BBCAMERICA @AMCPlus @CNN @sidgentlefilms @IamSandraOh @IMDb @vulture 'Queer people worried they were not worthy of love saw that they were watching Eve and Villanelle kiss on the street. Then, Neal took that away. There are no happy endings for queer characters.'\n",
      "\n",
      "'The “Killing Eve” Finale Was Violent In the Worst Way'\n",
      "https://t.co/Wron4EIWzI https://t.co/gx0eOwnoAc\n",
      "‘Villanelle will be back!’ Killing Eve’s author speaks out over the catastrophic TV finale https://t.co/Q38D4Ynz4d\n",
      "@KHAOTlC IM GOOD!! FEELING A BIT ANXIOUS ANS LONELY RN BUT ITS OKAY IG, WATHCING KILLING EVE WBU\n",
      "A cinco minutos de terminar Killing Eve. Tengo miedo\n",
      "@Killingeveandme @TacosAreTxsty @KillingEve Give us at least an ending we deserve that is worthy and fitting of a Killing Eve finale! Instead of that total shambolic, putrid mess you inflicted on all of us! Even better we await your Season 5 answer rewrite your wrongs.Not asking for much. #JusticeForVillanelleAndEve\n",
      "Killing Eve author blasts controversial TV finale and promises 'Villanelle will be back' https://t.co/qrHqdnYRKo\n"
     ]
    },
    {
     "name": "stdout",
     "output_type": "stream",
     "text": [
      "@Kwik_Fit New Killing eve series\n",
      "Petition for Phoebe Waller-Bridge to Make an Alternative Ending for the Killing Eve Finale - Sign the Petition! https://t.co/fnnqeOD03b 来自 @Change\n",
      "Heartstopper is helping me heal from the Killing Eve finale\n",
      "@LilacMirr0r Hey ! Talking to me or the person who posted it ? \n",
      "Because anyway, I will ALWAYS recommend Killing Eve.\n",
      "Despite this last season and awful ending, it is stil an amazing tv show with great acting, great humour, great music and a lot more ! ^^\n",
      "🍿 @AgustinMina94 repasa el final de \"Killing Eve\" https://t.co/a6YMPAljfB\n",
      "cant wait for ep 9 of killing eve tonight!!\n",
      "I’m worried that if I start rewatching Killing Eve again I might have a crisis and book another tattoo\n",
      "Look at this #bookpost! Even the box is great. The minute I heard about this book, I needed to read it. #ImposterSyndrome by @bykathywang will be published on 25/5 by @VERVE_Books. Listen to this: “Silicon Valley meets Killing Eve in this highly anticipated razor-sharp novel” https://t.co/jnWsojnZO6\n",
      "Why is Killing Eve the more-creepy less-gory explicitly-disclosed-as-gay psychological drama with hot people that Hannibal always hinted at but never delivered?\n",
      "‘Killing Eve’ Review: The Frustrating Series Finale Isn’t Much of an Ending at All — Spoilers https://t.co/NSqon13C5b vía @indiewire\n",
      "En #LaPalabraJusta por @FMLaPatriada | 📺 Le ponemos play a #SeamosSeries 🍿 y de la mano de @AgustinMina94 vamos a repasar el final de Killing Eve 👉🏻 https://t.co/87zIw26gVc https://t.co/VJ55mT5fR5\n",
      "@Sumpfkuh Oh, 2. Staffel, danke! Apropos speziell, kennst du Killing Eve?\n",
      "I've just watched episode S04 | E01 of Killing Eve! #killingeve  https://t.co/vwV5PEmEPW #tvtime https://t.co/yaAwBqId78\n",
      "@ceIestiaIfate supernatural | heartstopper, xmen, killing eve, doctor who\n",
      "@yeojrou killing eve but only if you are ready for pain\n",
      "‘Killing Eve’ Season 4, Episode 8 Review: Series Finale — Spoilers | IndieWire https://t.co/k8HMd6JZh3\n",
      "@moviemenfes added to my playlist, ntaran deh, lagi namatin killing eve soalnya\n",
      "killing eve fanfic recommendations pleaseeeee #killingeve #ao3\n",
      "Killing Eve star Ayoola Smart will play the key character of Aviendha in the second season of The Wheel of Time on Amazon Prime Video. https://t.co/rIwxEpXDZW\n",
      "@clownforadelex I started watching Killing Eve because of Sandra Oh but wound up loving Jodie Comer.\n"
     ]
    }
   ],
   "source": [
    "# Write an inital query to retrieve data\n",
    "query_test = 'ukrainewar -is:retweet'\n",
    "for cnt, tweet in enumerate(tweepy.Paginator(client.search_recent_tweets, query=query,\n",
    "                              tweet_fields=['context_annotations', 'created_at'], max_results=10).flatten(limit=100)):\n",
    "    print(tweet.data['text'])"
   ]
  },
  {
   "cell_type": "markdown",
   "id": "d58223c5",
   "metadata": {},
   "source": [
    "From the 100 tweets above, users also use the keywords \"Ukraine️\" and \"RussiaUkraineWar\" in their tweets. \n",
    "Therefore, I will use the query list of ukrainewar,UkraineRussianWar, and ukraine to search for related tweets."
   ]
  },
  {
   "cell_type": "code",
   "execution_count": 28,
   "id": "182d1ef5",
   "metadata": {},
   "outputs": [],
   "source": [
    "# Write the query list\n",
    "query = 'ukrainewar OR UkraineRussianWar OR ukraine -is:retweet'"
   ]
  },
  {
   "cell_type": "code",
   "execution_count": 30,
   "id": "a3618f2c",
   "metadata": {},
   "outputs": [],
   "source": [
    "# Retrieve twitter data and store the data into a list\n",
    "data = []\n",
    "for cnt, tweet in enumerate(tweepy.Paginator(client.search_recent_tweets, query=query,\n",
    "                              tweet_fields=['context_annotations', 'created_at'], max_results=10).flatten(limit=1000)):\n",
    "    data.append([tweet.created_at,tweet.id,tweet.data['text']])"
   ]
  },
  {
   "cell_type": "code",
   "execution_count": 31,
   "id": "3784e3df",
   "metadata": {},
   "outputs": [],
   "source": [
    "# Store the tweets into a dataframe\n",
    "columns = ['Created_at', 'Id', 'Tweet']\n",
    "df = pd.DataFrame(data, columns = columns)"
   ]
  },
  {
   "cell_type": "code",
   "execution_count": 32,
   "id": "fa32efc8",
   "metadata": {},
   "outputs": [],
   "source": [
    "# Write into a csv file\n",
    "df.to_csv('ukrainewartweets.csv')"
   ]
  },
  {
   "cell_type": "markdown",
   "id": "25d154fa",
   "metadata": {},
   "source": [
    "**Retrieve 5 pages**\\\n",
    "Using twitter API and tweepy Paginator, write code to obtain at least 5 pages of\n",
    "tweets from each of these two user accounts."
   ]
  },
  {
   "cell_type": "code",
   "execution_count": 73,
   "id": "3c732c66",
   "metadata": {},
   "outputs": [],
   "source": [
    "# news sources: Reuters, CNN"
   ]
  },
  {
   "cell_type": "code",
   "execution_count": 112,
   "id": "08ee79a5",
   "metadata": {},
   "outputs": [],
   "source": [
    "# Get user ids\n",
    "users = client.get_users(usernames = ['CNN','CNNPolitics'])"
   ]
  },
  {
   "cell_type": "code",
   "execution_count": 113,
   "id": "ff41e9dd",
   "metadata": {},
   "outputs": [
    {
     "name": "stdout",
     "output_type": "stream",
     "text": [
      "[<User id=759251 name=CNN username=CNN>, <User id=13850422 name=CNN Politics username=CNNPolitics>]\n",
      "{}\n",
      "[]\n",
      "{}\n"
     ]
    }
   ],
   "source": [
    "# Print the id\n",
    "for user in users:\n",
    "    print(user)"
   ]
  },
  {
   "cell_type": "code",
   "execution_count": 116,
   "id": "601516a2",
   "metadata": {},
   "outputs": [],
   "source": [
    "# Store the id in variables\n",
    "userid_cnn = '759251'\n",
    "userid_cnnpolitics ='13850422'"
   ]
  },
  {
   "cell_type": "code",
   "execution_count": 148,
   "id": "034bc696",
   "metadata": {},
   "outputs": [],
   "source": [
    "# Create an empty list to store informatino later\n",
    "data2 = []"
   ]
  },
  {
   "cell_type": "code",
   "execution_count": 149,
   "id": "bb00b536",
   "metadata": {},
   "outputs": [],
   "source": [
    "# Retrieve 1,000 tweest of the CNN account\n",
    "for cnt, tweet in enumerate(tweepy.Paginator(client.get_users_tweets, id =userid_cnn,\n",
    "                              tweet_fields=['author_id','lang','created_at',\n",
    "                                            'context_annotations','source','public_metrics'], max_results=100).flatten(limit=1000)):\n",
    "    #print(cnt, tweet.author_id, tweet.text, tweet.id, tweet.lang, tweet.created_at, \n",
    "          #tweet.source,tweet.data['text'],tweet.public_metrics['retweet_count'],\n",
    "          #tweet.public_metrics['reply_count'],tweet.public_metrics['like_count'],\n",
    "          #tweet.public_metrics['quote_count'])\n",
    "    data2.append([tweet.author_id, tweet.text, tweet.id, tweet.lang, tweet.created_at, \n",
    "          tweet.source,tweet.public_metrics['retweet_count'],\n",
    "          tweet.public_metrics['reply_count'],tweet.public_metrics['like_count'],\n",
    "          tweet.public_metrics['quote_count']])"
   ]
  },
  {
   "cell_type": "code",
   "execution_count": 150,
   "id": "6c61eaff",
   "metadata": {},
   "outputs": [],
   "source": [
    "# Retrieve 1,000 tweest of the CNN Politics account\n",
    "for cnt, tweet in enumerate(tweepy.Paginator(client.get_users_tweets, id =userid_cnnpolitics,\n",
    "                              tweet_fields=['author_id','lang','created_at',\n",
    "                                            'context_annotations','source','public_metrics'], max_results=100).flatten(limit=1000)):\n",
    "    data2.append([tweet.author_id, tweet.text, tweet.id, tweet.lang, tweet.created_at, \n",
    "          tweet.source,tweet.public_metrics['retweet_count'],\n",
    "          tweet.public_metrics['reply_count'],tweet.public_metrics['like_count'],\n",
    "          tweet.public_metrics['quote_count']])"
   ]
  },
  {
   "cell_type": "code",
   "execution_count": 153,
   "id": "035bcb86",
   "metadata": {},
   "outputs": [],
   "source": [
    "# Store the tweets into a dataframe\n",
    "columns = ['author_id','text','tweet_id','lang','created_at','source','retweet_count','reply_count','like_count','quote_count']\n",
    "df2 = pd.DataFrame(data2, columns = columns)"
   ]
  },
  {
   "cell_type": "code",
   "execution_count": 160,
   "id": "15cec753",
   "metadata": {
    "scrolled": true
   },
   "outputs": [
    {
     "data": {
      "text/html": [
       "<div>\n",
       "<style scoped>\n",
       "    .dataframe tbody tr th:only-of-type {\n",
       "        vertical-align: middle;\n",
       "    }\n",
       "\n",
       "    .dataframe tbody tr th {\n",
       "        vertical-align: top;\n",
       "    }\n",
       "\n",
       "    .dataframe thead th {\n",
       "        text-align: right;\n",
       "    }\n",
       "</style>\n",
       "<table border=\"1\" class=\"dataframe\">\n",
       "  <thead>\n",
       "    <tr style=\"text-align: right;\">\n",
       "      <th></th>\n",
       "      <th>author_id</th>\n",
       "      <th>text</th>\n",
       "      <th>tweet_id</th>\n",
       "      <th>lang</th>\n",
       "      <th>created_at</th>\n",
       "      <th>source</th>\n",
       "      <th>retweet_count</th>\n",
       "      <th>reply_count</th>\n",
       "      <th>like_count</th>\n",
       "      <th>quote_count</th>\n",
       "    </tr>\n",
       "  </thead>\n",
       "  <tbody>\n",
       "    <tr>\n",
       "      <th>0</th>\n",
       "      <td>759251</td>\n",
       "      <td>.@brianstelter breaks down the decisions behin...</td>\n",
       "      <td>1518267592976252930</td>\n",
       "      <td>en</td>\n",
       "      <td>2022-04-24 16:36:16+00:00</td>\n",
       "      <td>TweetDeck</td>\n",
       "      <td>7</td>\n",
       "      <td>17</td>\n",
       "      <td>35</td>\n",
       "      <td>1</td>\n",
       "    </tr>\n",
       "    <tr>\n",
       "      <th>1</th>\n",
       "      <td>759251</td>\n",
       "      <td>The New York Yankees and Cleveland Guardians a...</td>\n",
       "      <td>1518266067352760320</td>\n",
       "      <td>en</td>\n",
       "      <td>2022-04-24 16:30:13+00:00</td>\n",
       "      <td>SocialFlow</td>\n",
       "      <td>13</td>\n",
       "      <td>34</td>\n",
       "      <td>48</td>\n",
       "      <td>4</td>\n",
       "    </tr>\n",
       "    <tr>\n",
       "      <th>2</th>\n",
       "      <td>759251</td>\n",
       "      <td>On the heels of an historic union victory at a...</td>\n",
       "      <td>1518258548291121154</td>\n",
       "      <td>en</td>\n",
       "      <td>2022-04-24 16:00:20+00:00</td>\n",
       "      <td>SocialFlow</td>\n",
       "      <td>17</td>\n",
       "      <td>17</td>\n",
       "      <td>86</td>\n",
       "      <td>0</td>\n",
       "    </tr>\n",
       "    <tr>\n",
       "      <th>3</th>\n",
       "      <td>759251</td>\n",
       "      <td>In California, felons turned firefighters are ...</td>\n",
       "      <td>1518254727032623104</td>\n",
       "      <td>en</td>\n",
       "      <td>2022-04-24 15:45:09+00:00</td>\n",
       "      <td>SocialFlow</td>\n",
       "      <td>39</td>\n",
       "      <td>28</td>\n",
       "      <td>279</td>\n",
       "      <td>3</td>\n",
       "    </tr>\n",
       "    <tr>\n",
       "      <th>4</th>\n",
       "      <td>759251</td>\n",
       "      <td>Ekaterina Kotrikadze, a Russian journalist for...</td>\n",
       "      <td>1518252146306818054</td>\n",
       "      <td>en</td>\n",
       "      <td>2022-04-24 15:34:54+00:00</td>\n",
       "      <td>TweetDeck</td>\n",
       "      <td>52</td>\n",
       "      <td>48</td>\n",
       "      <td>134</td>\n",
       "      <td>5</td>\n",
       "    </tr>\n",
       "  </tbody>\n",
       "</table>\n",
       "</div>"
      ],
      "text/plain": [
       "   author_id                                               text  \\\n",
       "0     759251  .@brianstelter breaks down the decisions behin...   \n",
       "1     759251  The New York Yankees and Cleveland Guardians a...   \n",
       "2     759251  On the heels of an historic union victory at a...   \n",
       "3     759251  In California, felons turned firefighters are ...   \n",
       "4     759251  Ekaterina Kotrikadze, a Russian journalist for...   \n",
       "\n",
       "              tweet_id lang                created_at      source  \\\n",
       "0  1518267592976252930   en 2022-04-24 16:36:16+00:00   TweetDeck   \n",
       "1  1518266067352760320   en 2022-04-24 16:30:13+00:00  SocialFlow   \n",
       "2  1518258548291121154   en 2022-04-24 16:00:20+00:00  SocialFlow   \n",
       "3  1518254727032623104   en 2022-04-24 15:45:09+00:00  SocialFlow   \n",
       "4  1518252146306818054   en 2022-04-24 15:34:54+00:00   TweetDeck   \n",
       "\n",
       "   retweet_count  reply_count  like_count  quote_count  \n",
       "0              7           17          35            1  \n",
       "1             13           34          48            4  \n",
       "2             17           17          86            0  \n",
       "3             39           28         279            3  \n",
       "4             52           48         134            5  "
      ]
     },
     "execution_count": 160,
     "metadata": {},
     "output_type": "execute_result"
    }
   ],
   "source": [
    "# Print the top rows of df2\n",
    "df2.head()"
   ]
  },
  {
   "cell_type": "code",
   "execution_count": 162,
   "id": "1f5c94de",
   "metadata": {},
   "outputs": [],
   "source": [
    "# Write into a csv file\n",
    "df2.to_csv('WarNewsTweets.csv')"
   ]
  },
  {
   "cell_type": "markdown",
   "id": "bdab742b",
   "metadata": {},
   "source": [
    "## Reddit Data Collection"
   ]
  },
  {
   "cell_type": "markdown",
   "id": "e835f41e",
   "metadata": {},
   "source": [
    "#### 3 subreddits to include:\n",
    "- r/ukrainewar\n",
    "- r/ukrainianconflict\n",
    "- r/ukraine\n",
    "- Reason: searched subreddits with the key word \"ukraine\", the subreddits \"r/ukraine\" and \"ukrainianconflict\" are showed on top. Aslo, the active users are 33,239 and 8,169 respectively at the time when I searched. The number of active users indicate that they are active subreddits."
   ]
  },
  {
   "cell_type": "code",
   "execution_count": 4,
   "id": "69b494f2",
   "metadata": {},
   "outputs": [],
   "source": [
    "# Load packages\n",
    "import praw"
   ]
  },
  {
   "cell_type": "code",
   "execution_count": 5,
   "id": "46317ad4",
   "metadata": {},
   "outputs": [],
   "source": [
    "# Authotification\n",
    "reddit = praw.Reddit('DEFAULT')"
   ]
  },
  {
   "cell_type": "code",
   "execution_count": 82,
   "id": "be41e993",
   "metadata": {
    "scrolled": true
   },
   "outputs": [],
   "source": [
    "data3 = []\n",
    "subreddit = reddit.subreddit('ukrainewar')\n",
    "rising_subreddit = subreddit.rising(limit=30)\n",
    "for submission in rising_subreddit:\n",
    "    #pprint.pprint(vars(submission))\n",
    "    data3.append([submission.subreddit_name_prefixed,submission.name, submission.created_utc, submission.title, submission.id,\n",
    "          submission.spoiler, submission.clicked,\n",
    "          submission.num_comments, submission.score, submission.downs, submission.ups, submission.upvote_ratio,\n",
    "          submission.url])"
   ]
  },
  {
   "cell_type": "code",
   "execution_count": 83,
   "id": "26c4bea9",
   "metadata": {},
   "outputs": [],
   "source": [
    "subreddit = reddit.subreddit('ukrainianconflict')\n",
    "rising_subreddit = subreddit.rising(limit=30)\n",
    "for submission in rising_subreddit:\n",
    "    #pprint.pprint(vars(submission))\n",
    "    data3.append([submission.subreddit_name_prefixed,submission.name, submission.created_utc, submission.title, submission.id,\n",
    "          submission.spoiler, submission.clicked,\n",
    "          submission.num_comments, submission.score, submission.downs, submission.ups, submission.upvote_ratio,\n",
    "          submission.url])"
   ]
  },
  {
   "cell_type": "code",
   "execution_count": 84,
   "id": "64ae66a0",
   "metadata": {},
   "outputs": [],
   "source": [
    "subreddit = reddit.subreddit('ukraine')\n",
    "rising_subreddit = subreddit.rising(limit=30)\n",
    "for submission in rising_subreddit:\n",
    "    #pprint.pprint(vars(submission))\n",
    "    data3.append([submission.subreddit_name_prefixed,submission.name, submission.created_utc, submission.title, submission.id,\n",
    "          submission.spoiler, submission.clicked,\n",
    "          submission.num_comments, submission.score, submission.downs, submission.ups, submission.upvote_ratio,\n",
    "          submission.url])"
   ]
  },
  {
   "cell_type": "code",
   "execution_count": 85,
   "id": "520e5d9f",
   "metadata": {},
   "outputs": [],
   "source": [
    "# Store the tweets into a dataframe\n",
    "columns = ['subreddit_name','submission.name','created_utc','title','submission_id',\n",
    "           'if_spoiler','if_clicked','num_comments','score','downs','ups','upvote_ratio','url']\n",
    "df3 = pd.DataFrame(data3, columns = columns)"
   ]
  },
  {
   "cell_type": "code",
   "execution_count": 89,
   "id": "b483e3fb",
   "metadata": {
    "scrolled": true
   },
   "outputs": [
    {
     "data": {
      "text/html": [
       "<div>\n",
       "<style scoped>\n",
       "    .dataframe tbody tr th:only-of-type {\n",
       "        vertical-align: middle;\n",
       "    }\n",
       "\n",
       "    .dataframe tbody tr th {\n",
       "        vertical-align: top;\n",
       "    }\n",
       "\n",
       "    .dataframe thead th {\n",
       "        text-align: right;\n",
       "    }\n",
       "</style>\n",
       "<table border=\"1\" class=\"dataframe\">\n",
       "  <thead>\n",
       "    <tr style=\"text-align: right;\">\n",
       "      <th></th>\n",
       "      <th>subreddit_name</th>\n",
       "      <th>submission.name</th>\n",
       "      <th>created_utc</th>\n",
       "      <th>title</th>\n",
       "      <th>submission_id</th>\n",
       "      <th>if_spoiler</th>\n",
       "      <th>if_clicked</th>\n",
       "      <th>num_comments</th>\n",
       "      <th>score</th>\n",
       "      <th>downs</th>\n",
       "      <th>ups</th>\n",
       "      <th>upvote_ratio</th>\n",
       "      <th>url</th>\n",
       "    </tr>\n",
       "  </thead>\n",
       "  <tbody>\n",
       "    <tr>\n",
       "      <th>0</th>\n",
       "      <td>r/ukrainewar</td>\n",
       "      <td>t3_uanbfe</td>\n",
       "      <td>1.650777e+09</td>\n",
       "      <td>A photo of Putin a meeting with Shoigu - Is it...</td>\n",
       "      <td>uanbfe</td>\n",
       "      <td>False</td>\n",
       "      <td>False</td>\n",
       "      <td>11</td>\n",
       "      <td>19</td>\n",
       "      <td>0</td>\n",
       "      <td>19</td>\n",
       "      <td>1.0</td>\n",
       "      <td>https://i.redd.it/b573iqfctev81.jpg</td>\n",
       "    </tr>\n",
       "    <tr>\n",
       "      <th>1</th>\n",
       "      <td>r/ukrainewar</td>\n",
       "      <td>t3_ub1zx4</td>\n",
       "      <td>1.650828e+09</td>\n",
       "      <td>Russia has used up about 70% of its high-preci...</td>\n",
       "      <td>ub1zx4</td>\n",
       "      <td>False</td>\n",
       "      <td>False</td>\n",
       "      <td>0</td>\n",
       "      <td>1</td>\n",
       "      <td>0</td>\n",
       "      <td>1</td>\n",
       "      <td>1.0</td>\n",
       "      <td>https://www.ukrinform.net/rubric-ato/3466423-r...</td>\n",
       "    </tr>\n",
       "    <tr>\n",
       "      <th>2</th>\n",
       "      <td>r/ukrainewar</td>\n",
       "      <td>t3_uazk8f</td>\n",
       "      <td>1.650821e+09</td>\n",
       "      <td>Ukrainians captured a Russian 152mm 2S19 Msta-...</td>\n",
       "      <td>uazk8f</td>\n",
       "      <td>False</td>\n",
       "      <td>False</td>\n",
       "      <td>0</td>\n",
       "      <td>1</td>\n",
       "      <td>0</td>\n",
       "      <td>1</td>\n",
       "      <td>1.0</td>\n",
       "      <td>https://youtu.be/LVYQTl6n78M</td>\n",
       "    </tr>\n",
       "    <tr>\n",
       "      <th>3</th>\n",
       "      <td>r/ukrainewar</td>\n",
       "      <td>t3_uaun0m</td>\n",
       "      <td>1.650806e+09</td>\n",
       "      <td>Ukraine President Zelenskyy had a conversation...</td>\n",
       "      <td>uaun0m</td>\n",
       "      <td>False</td>\n",
       "      <td>False</td>\n",
       "      <td>0</td>\n",
       "      <td>2</td>\n",
       "      <td>0</td>\n",
       "      <td>2</td>\n",
       "      <td>1.0</td>\n",
       "      <td>https://www.ukrinform.ua/rubric-polytics/34662...</td>\n",
       "    </tr>\n",
       "    <tr>\n",
       "      <th>4</th>\n",
       "      <td>r/ukrainewar</td>\n",
       "      <td>t3_ualnn3</td>\n",
       "      <td>1.650770e+09</td>\n",
       "      <td>What do you guys think? Is Schröder an enemy o...</td>\n",
       "      <td>ualnn3</td>\n",
       "      <td>False</td>\n",
       "      <td>False</td>\n",
       "      <td>0</td>\n",
       "      <td>0</td>\n",
       "      <td>0</td>\n",
       "      <td>0</td>\n",
       "      <td>0.5</td>\n",
       "      <td>https://www.nytimes.com/2022/04/23/world/europ...</td>\n",
       "    </tr>\n",
       "  </tbody>\n",
       "</table>\n",
       "</div>"
      ],
      "text/plain": [
       "  subreddit_name submission.name   created_utc  \\\n",
       "0   r/ukrainewar       t3_uanbfe  1.650777e+09   \n",
       "1   r/ukrainewar       t3_ub1zx4  1.650828e+09   \n",
       "2   r/ukrainewar       t3_uazk8f  1.650821e+09   \n",
       "3   r/ukrainewar       t3_uaun0m  1.650806e+09   \n",
       "4   r/ukrainewar       t3_ualnn3  1.650770e+09   \n",
       "\n",
       "                                               title submission_id  \\\n",
       "0  A photo of Putin a meeting with Shoigu - Is it...        uanbfe   \n",
       "1  Russia has used up about 70% of its high-preci...        ub1zx4   \n",
       "2  Ukrainians captured a Russian 152mm 2S19 Msta-...        uazk8f   \n",
       "3  Ukraine President Zelenskyy had a conversation...        uaun0m   \n",
       "4  What do you guys think? Is Schröder an enemy o...        ualnn3   \n",
       "\n",
       "   if_spoiler  if_clicked  num_comments  score  downs  ups  upvote_ratio  \\\n",
       "0       False       False            11     19      0   19           1.0   \n",
       "1       False       False             0      1      0    1           1.0   \n",
       "2       False       False             0      1      0    1           1.0   \n",
       "3       False       False             0      2      0    2           1.0   \n",
       "4       False       False             0      0      0    0           0.5   \n",
       "\n",
       "                                                 url  \n",
       "0                https://i.redd.it/b573iqfctev81.jpg  \n",
       "1  https://www.ukrinform.net/rubric-ato/3466423-r...  \n",
       "2                       https://youtu.be/LVYQTl6n78M  \n",
       "3  https://www.ukrinform.ua/rubric-polytics/34662...  \n",
       "4  https://www.nytimes.com/2022/04/23/world/europ...  "
      ]
     },
     "execution_count": 89,
     "metadata": {},
     "output_type": "execute_result"
    }
   ],
   "source": [
    "df3.head()"
   ]
  },
  {
   "cell_type": "code",
   "execution_count": 90,
   "id": "11985c64",
   "metadata": {},
   "outputs": [],
   "source": [
    "# Write into a csv file\n",
    "df3.to_csv('ukrainewarReddit.csv')"
   ]
  },
  {
   "cell_type": "markdown",
   "id": "e78b3de3",
   "metadata": {},
   "source": [
    "### **r/ukrainewar** "
   ]
  },
  {
   "cell_type": "code",
   "execution_count": 6,
   "id": "da112fa5",
   "metadata": {},
   "outputs": [],
   "source": [
    "# Construct a dataframe to store 50 hot submissions \n",
    "subreddit = reddit.subreddit('ukrainewar')\n",
    "hot_subreddit = subreddit.hot(limit=50)\n",
    "\n",
    "data_hot_ukrainewar = []\n",
    "for submission in hot_subreddit:\n",
    "    #pprint.pprint(vars(submission))\n",
    "    data_hot_ukrainewar.append([submission.subreddit_name_prefixed,submission.name, submission.created_utc, submission.title, submission.id,\n",
    "          submission.spoiler, submission.clicked,\n",
    "          submission.num_comments, submission.score, submission.downs, submission.ups, submission.upvote_ratio,\n",
    "          submission.url])\n",
    "# Store the tweets into a dataframe\n",
    "columns = ['subreddit_name','submission.name','created_utc','title','submission_id',\n",
    "           'if_spoiler','if_clicked','num_comments','score','downs','ups','upvote_ratio','url']\n",
    "df_hot_ukrainewar = pd.DataFrame(data_hot_ukrainewar, columns = columns)"
   ]
  },
  {
   "cell_type": "code",
   "execution_count": 25,
   "id": "d7b74e9b",
   "metadata": {},
   "outputs": [
    {
     "data": {
      "text/plain": [
       "(50, 13)"
      ]
     },
     "execution_count": 25,
     "metadata": {},
     "output_type": "execute_result"
    }
   ],
   "source": [
    "# see the number of submissions\n",
    "df_hot_ukrainewar.shape"
   ]
  },
  {
   "cell_type": "code",
   "execution_count": 26,
   "id": "d6ae2705",
   "metadata": {},
   "outputs": [],
   "source": [
    "# Construct a dataframe to store 50 rising submissions \n",
    "subreddit = reddit.subreddit('ukrainewar')\n",
    "rising_subreddit = subreddit.rising(limit=50)\n",
    "\n",
    "data_rising_ukrainewar = []\n",
    "for submission in rising_subreddit:\n",
    "    #pprint.pprint(vars(submission))\n",
    "    data_rising_ukrainewar.append([submission.subreddit_name_prefixed,submission.name, submission.created_utc, submission.title, submission.id,\n",
    "          submission.spoiler, submission.clicked,\n",
    "          submission.num_comments, submission.score, submission.downs, submission.ups, submission.upvote_ratio,\n",
    "          submission.url])\n",
    "# Store the tweets into a dataframe\n",
    "columns = ['subreddit_name','submission.name','created_utc','title','submission_id',\n",
    "           'if_spoiler','if_clicked','num_comments','score','downs','ups','upvote_ratio','url']\n",
    "df_rising_ukrainewar = pd.DataFrame(data_rising_ukrainewar, columns = columns)"
   ]
  },
  {
   "cell_type": "code",
   "execution_count": 28,
   "id": "3c516827",
   "metadata": {},
   "outputs": [
    {
     "data": {
      "text/plain": [
       "(25, 13)"
      ]
     },
     "execution_count": 28,
     "metadata": {},
     "output_type": "execute_result"
    }
   ],
   "source": [
    "# see the number of submissions\n",
    "df_rising_ukrainewar.shape"
   ]
  },
  {
   "cell_type": "code",
   "execution_count": 29,
   "id": "a169274e",
   "metadata": {},
   "outputs": [
    {
     "data": {
      "text/plain": [
       "(25, 25)"
      ]
     },
     "execution_count": 29,
     "metadata": {},
     "output_type": "execute_result"
    }
   ],
   "source": [
    "# merge on the submission_id column to filter the duplicate submissions\n",
    "d_ukrainewar = pd.merge(df_hot_ukrainewar,df_rising_ukrainewar, on = ['submission_id'])"
   ]
  },
  {
   "cell_type": "code",
   "execution_count": 32,
   "id": "b8af1d5f",
   "metadata": {},
   "outputs": [
    {
     "data": {
      "text/plain": [
       "(25, 25)"
      ]
     },
     "execution_count": 32,
     "metadata": {},
     "output_type": "execute_result"
    }
   ],
   "source": [
    "# see the number of duplicate submissions\n",
    "d_ukrainewar.shape"
   ]
  },
  {
   "cell_type": "code",
   "execution_count": 33,
   "id": "d77f1653",
   "metadata": {},
   "outputs": [
    {
     "data": {
      "text/html": [
       "<div>\n",
       "<style scoped>\n",
       "    .dataframe tbody tr th:only-of-type {\n",
       "        vertical-align: middle;\n",
       "    }\n",
       "\n",
       "    .dataframe tbody tr th {\n",
       "        vertical-align: top;\n",
       "    }\n",
       "\n",
       "    .dataframe thead th {\n",
       "        text-align: right;\n",
       "    }\n",
       "</style>\n",
       "<table border=\"1\" class=\"dataframe\">\n",
       "  <thead>\n",
       "    <tr style=\"text-align: right;\">\n",
       "      <th></th>\n",
       "      <th>subreddit_name_x</th>\n",
       "      <th>submission.name_x</th>\n",
       "      <th>created_utc_x</th>\n",
       "      <th>title_x</th>\n",
       "      <th>submission_id</th>\n",
       "      <th>if_spoiler_x</th>\n",
       "      <th>if_clicked_x</th>\n",
       "      <th>num_comments_x</th>\n",
       "      <th>score_x</th>\n",
       "      <th>downs_x</th>\n",
       "      <th>...</th>\n",
       "      <th>created_utc_y</th>\n",
       "      <th>title_y</th>\n",
       "      <th>if_spoiler_y</th>\n",
       "      <th>if_clicked_y</th>\n",
       "      <th>num_comments_y</th>\n",
       "      <th>score_y</th>\n",
       "      <th>downs_y</th>\n",
       "      <th>ups_y</th>\n",
       "      <th>upvote_ratio_y</th>\n",
       "      <th>url_y</th>\n",
       "    </tr>\n",
       "  </thead>\n",
       "  <tbody>\n",
       "    <tr>\n",
       "      <th>0</th>\n",
       "      <td>r/ukrainewar</td>\n",
       "      <td>t3_ub1zx4</td>\n",
       "      <td>1.650828e+09</td>\n",
       "      <td>Russia has used up about 70% of its high-preci...</td>\n",
       "      <td>ub1zx4</td>\n",
       "      <td>False</td>\n",
       "      <td>False</td>\n",
       "      <td>0</td>\n",
       "      <td>2</td>\n",
       "      <td>0</td>\n",
       "      <td>...</td>\n",
       "      <td>1.650828e+09</td>\n",
       "      <td>Russia has used up about 70% of its high-preci...</td>\n",
       "      <td>False</td>\n",
       "      <td>False</td>\n",
       "      <td>0</td>\n",
       "      <td>8</td>\n",
       "      <td>0</td>\n",
       "      <td>8</td>\n",
       "      <td>1.00</td>\n",
       "      <td>https://www.ukrinform.net/rubric-ato/3466423-r...</td>\n",
       "    </tr>\n",
       "    <tr>\n",
       "      <th>1</th>\n",
       "      <td>r/ukrainewar</td>\n",
       "      <td>t3_uazk8f</td>\n",
       "      <td>1.650821e+09</td>\n",
       "      <td>Ukrainians captured a Russian 152mm 2S19 Msta-...</td>\n",
       "      <td>uazk8f</td>\n",
       "      <td>False</td>\n",
       "      <td>False</td>\n",
       "      <td>0</td>\n",
       "      <td>2</td>\n",
       "      <td>0</td>\n",
       "      <td>...</td>\n",
       "      <td>1.650821e+09</td>\n",
       "      <td>Ukrainians captured a Russian 152mm 2S19 Msta-...</td>\n",
       "      <td>False</td>\n",
       "      <td>False</td>\n",
       "      <td>0</td>\n",
       "      <td>3</td>\n",
       "      <td>0</td>\n",
       "      <td>3</td>\n",
       "      <td>0.81</td>\n",
       "      <td>https://youtu.be/LVYQTl6n78M</td>\n",
       "    </tr>\n",
       "    <tr>\n",
       "      <th>2</th>\n",
       "      <td>r/ukrainewar</td>\n",
       "      <td>t3_uanbfe</td>\n",
       "      <td>1.650777e+09</td>\n",
       "      <td>A photo of Putin a meeting with Shoigu - Is it...</td>\n",
       "      <td>uanbfe</td>\n",
       "      <td>False</td>\n",
       "      <td>False</td>\n",
       "      <td>11</td>\n",
       "      <td>20</td>\n",
       "      <td>0</td>\n",
       "      <td>...</td>\n",
       "      <td>1.650777e+09</td>\n",
       "      <td>A photo of Putin a meeting with Shoigu - Is it...</td>\n",
       "      <td>False</td>\n",
       "      <td>False</td>\n",
       "      <td>11</td>\n",
       "      <td>21</td>\n",
       "      <td>0</td>\n",
       "      <td>21</td>\n",
       "      <td>1.00</td>\n",
       "      <td>https://i.redd.it/b573iqfctev81.jpg</td>\n",
       "    </tr>\n",
       "    <tr>\n",
       "      <th>3</th>\n",
       "      <td>r/ukrainewar</td>\n",
       "      <td>t3_uaun0m</td>\n",
       "      <td>1.650806e+09</td>\n",
       "      <td>Ukraine President Zelenskyy had a conversation...</td>\n",
       "      <td>uaun0m</td>\n",
       "      <td>False</td>\n",
       "      <td>False</td>\n",
       "      <td>0</td>\n",
       "      <td>2</td>\n",
       "      <td>0</td>\n",
       "      <td>...</td>\n",
       "      <td>1.650806e+09</td>\n",
       "      <td>Ukraine President Zelenskyy had a conversation...</td>\n",
       "      <td>False</td>\n",
       "      <td>False</td>\n",
       "      <td>0</td>\n",
       "      <td>2</td>\n",
       "      <td>0</td>\n",
       "      <td>2</td>\n",
       "      <td>1.00</td>\n",
       "      <td>https://www.ukrinform.ua/rubric-polytics/34662...</td>\n",
       "    </tr>\n",
       "    <tr>\n",
       "      <th>4</th>\n",
       "      <td>r/ukrainewar</td>\n",
       "      <td>t3_ualnn3</td>\n",
       "      <td>1.650770e+09</td>\n",
       "      <td>What do you guys think? Is Schröder an enemy o...</td>\n",
       "      <td>ualnn3</td>\n",
       "      <td>False</td>\n",
       "      <td>False</td>\n",
       "      <td>0</td>\n",
       "      <td>0</td>\n",
       "      <td>0</td>\n",
       "      <td>...</td>\n",
       "      <td>1.650770e+09</td>\n",
       "      <td>What do you guys think? Is Schröder an enemy o...</td>\n",
       "      <td>False</td>\n",
       "      <td>False</td>\n",
       "      <td>0</td>\n",
       "      <td>0</td>\n",
       "      <td>0</td>\n",
       "      <td>0</td>\n",
       "      <td>0.50</td>\n",
       "      <td>https://www.nytimes.com/2022/04/23/world/europ...</td>\n",
       "    </tr>\n",
       "  </tbody>\n",
       "</table>\n",
       "<p>5 rows × 25 columns</p>\n",
       "</div>"
      ],
      "text/plain": [
       "  subreddit_name_x submission.name_x  created_utc_x  \\\n",
       "0     r/ukrainewar         t3_ub1zx4   1.650828e+09   \n",
       "1     r/ukrainewar         t3_uazk8f   1.650821e+09   \n",
       "2     r/ukrainewar         t3_uanbfe   1.650777e+09   \n",
       "3     r/ukrainewar         t3_uaun0m   1.650806e+09   \n",
       "4     r/ukrainewar         t3_ualnn3   1.650770e+09   \n",
       "\n",
       "                                             title_x submission_id  \\\n",
       "0  Russia has used up about 70% of its high-preci...        ub1zx4   \n",
       "1  Ukrainians captured a Russian 152mm 2S19 Msta-...        uazk8f   \n",
       "2  A photo of Putin a meeting with Shoigu - Is it...        uanbfe   \n",
       "3  Ukraine President Zelenskyy had a conversation...        uaun0m   \n",
       "4  What do you guys think? Is Schröder an enemy o...        ualnn3   \n",
       "\n",
       "   if_spoiler_x  if_clicked_x  num_comments_x  score_x  downs_x  ...  \\\n",
       "0         False         False               0        2        0  ...   \n",
       "1         False         False               0        2        0  ...   \n",
       "2         False         False              11       20        0  ...   \n",
       "3         False         False               0        2        0  ...   \n",
       "4         False         False               0        0        0  ...   \n",
       "\n",
       "   created_utc_y                                            title_y  \\\n",
       "0   1.650828e+09  Russia has used up about 70% of its high-preci...   \n",
       "1   1.650821e+09  Ukrainians captured a Russian 152mm 2S19 Msta-...   \n",
       "2   1.650777e+09  A photo of Putin a meeting with Shoigu - Is it...   \n",
       "3   1.650806e+09  Ukraine President Zelenskyy had a conversation...   \n",
       "4   1.650770e+09  What do you guys think? Is Schröder an enemy o...   \n",
       "\n",
       "  if_spoiler_y if_clicked_y num_comments_y  score_y downs_y  ups_y  \\\n",
       "0        False        False              0        8       0      8   \n",
       "1        False        False              0        3       0      3   \n",
       "2        False        False             11       21       0     21   \n",
       "3        False        False              0        2       0      2   \n",
       "4        False        False              0        0       0      0   \n",
       "\n",
       "   upvote_ratio_y                                              url_y  \n",
       "0            1.00  https://www.ukrinform.net/rubric-ato/3466423-r...  \n",
       "1            0.81                       https://youtu.be/LVYQTl6n78M  \n",
       "2            1.00                https://i.redd.it/b573iqfctev81.jpg  \n",
       "3            1.00  https://www.ukrinform.ua/rubric-polytics/34662...  \n",
       "4            0.50  https://www.nytimes.com/2022/04/23/world/europ...  \n",
       "\n",
       "[5 rows x 25 columns]"
      ]
     },
     "execution_count": 33,
     "metadata": {},
     "output_type": "execute_result"
    }
   ],
   "source": [
    "# see duplicate submissions\n",
    "d_ukrainewar.head()"
   ]
  },
  {
   "cell_type": "markdown",
   "id": "089a8511",
   "metadata": {},
   "source": [
    "### **r/ukrainianconflict** "
   ]
  },
  {
   "cell_type": "code",
   "execution_count": 49,
   "id": "abdabc4c",
   "metadata": {},
   "outputs": [],
   "source": [
    "# Construct a dataframe to store 50 hot submissions \n",
    "subreddit = reddit.subreddit('ukrainianconflict')\n",
    "hot_subreddit = subreddit.hot(limit=50)\n",
    "\n",
    "data_hot_ukrainianconflict = []\n",
    "for submission in hot_subreddit:\n",
    "    #pprint.pprint(vars(submission))\n",
    "    data_hot_ukrainianconflict.append([submission.subreddit_name_prefixed,submission.name, submission.created_utc, submission.title, submission.id,\n",
    "          submission.spoiler, submission.clicked,\n",
    "          submission.num_comments, submission.score, submission.downs, submission.ups, submission.upvote_ratio,\n",
    "          submission.url])\n",
    "# Store the tweets into a dataframe\n",
    "columns = ['subreddit_name','submission.name','created_utc','title','submission_id',\n",
    "           'if_spoiler','if_clicked','num_comments','score','downs','ups','upvote_ratio','url']\n",
    "df_hot_ukrainianconflict = pd.DataFrame(data_hot_ukrainianconflict, columns = columns)"
   ]
  },
  {
   "cell_type": "code",
   "execution_count": 51,
   "id": "5ce8f2ce",
   "metadata": {},
   "outputs": [
    {
     "data": {
      "text/plain": [
       "(50, 13)"
      ]
     },
     "execution_count": 51,
     "metadata": {},
     "output_type": "execute_result"
    }
   ],
   "source": [
    "df_hot_ukrainianconflict.shape"
   ]
  },
  {
   "cell_type": "code",
   "execution_count": 59,
   "id": "b1baaabc",
   "metadata": {},
   "outputs": [],
   "source": [
    "# Construct a dataframe to store 50 rising submissions \n",
    "subreddit = reddit.subreddit('ukrainianconflict')\n",
    "rising_subreddit = subreddit.rising(limit=50)\n",
    "\n",
    "data_rising_ukrainianconflict = []\n",
    "for submission in rising_subreddit:\n",
    "    #pprint.pprint(vars(submission))\n",
    "    data_rising_ukrainianconflict.append([submission.subreddit_name_prefixed,submission.name, submission.created_utc, submission.title, submission.id,\n",
    "          submission.spoiler, submission.clicked,\n",
    "          submission.num_comments, submission.score, submission.downs, submission.ups, submission.upvote_ratio,\n",
    "          submission.url])\n",
    "# Store the tweets into a dataframe\n",
    "columns = ['subreddit_name','submission.name','created_utc','title','submission_id',\n",
    "           'if_spoiler','if_clicked','num_comments','score','downs','ups','upvote_ratio','url']\n",
    "df_rising_ukrainianconflict = pd.DataFrame(data_rising_ukrainianconflict, columns = columns)"
   ]
  },
  {
   "cell_type": "code",
   "execution_count": 60,
   "id": "6112b355",
   "metadata": {},
   "outputs": [
    {
     "data": {
      "text/plain": [
       "(27, 13)"
      ]
     },
     "execution_count": 60,
     "metadata": {},
     "output_type": "execute_result"
    }
   ],
   "source": [
    "df_rising_ukrainianconflict.shape"
   ]
  },
  {
   "cell_type": "code",
   "execution_count": 62,
   "id": "9a8c8c8c",
   "metadata": {},
   "outputs": [],
   "source": [
    "# merge on the submission_id column to filter the duplicate submissions\n",
    "d_ukrainianconflict = pd.merge(df_hot_ukrainianconflict,df_rising_ukrainianconflict, on = ['submission_id'])"
   ]
  },
  {
   "cell_type": "code",
   "execution_count": 63,
   "id": "e5232511",
   "metadata": {},
   "outputs": [
    {
     "data": {
      "text/plain": [
       "(0, 25)"
      ]
     },
     "execution_count": 63,
     "metadata": {},
     "output_type": "execute_result"
    }
   ],
   "source": [
    "# see the number of duplicate submissions\n",
    "d_ukrainianconflict.shape"
   ]
  },
  {
   "cell_type": "code",
   "execution_count": 64,
   "id": "aa230cf1",
   "metadata": {},
   "outputs": [],
   "source": [
    "# There is no duplicate submissions between the hot and rising in the r/ukrainianconflict."
   ]
  },
  {
   "cell_type": "markdown",
   "id": "5e3bc897",
   "metadata": {},
   "source": [
    "### **r/ukraine** - "
   ]
  },
  {
   "cell_type": "code",
   "execution_count": 66,
   "id": "9787a218",
   "metadata": {},
   "outputs": [],
   "source": [
    "# Construct a dataframe to store 50 hot submissions \n",
    "subreddit = reddit.subreddit('ukraine')\n",
    "hot_subreddit = subreddit.hot(limit=50)\n",
    "\n",
    "data_hot_ukraine = []\n",
    "for submission in hot_subreddit:\n",
    "    #pprint.pprint(vars(submission))\n",
    "    data_hot_ukraine.append([submission.subreddit_name_prefixed,submission.name, submission.created_utc, submission.title, submission.id,\n",
    "          submission.spoiler, submission.clicked,\n",
    "          submission.num_comments, submission.score, submission.downs, submission.ups, submission.upvote_ratio,\n",
    "          submission.url])\n",
    "# Store the tweets into a dataframe\n",
    "columns = ['subreddit_name','submission.name','created_utc','title','submission_id',\n",
    "           'if_spoiler','if_clicked','num_comments','score','downs','ups','upvote_ratio','url']\n",
    "df_data_hot_ukraine = pd.DataFrame(data_hot_ukraine, columns = columns)"
   ]
  },
  {
   "cell_type": "code",
   "execution_count": 67,
   "id": "59d67a1f",
   "metadata": {},
   "outputs": [
    {
     "data": {
      "text/plain": [
       "(50, 13)"
      ]
     },
     "execution_count": 67,
     "metadata": {},
     "output_type": "execute_result"
    }
   ],
   "source": [
    "df_data_hot_ukraine.shape"
   ]
  },
  {
   "cell_type": "code",
   "execution_count": 68,
   "id": "646295b1",
   "metadata": {},
   "outputs": [],
   "source": [
    "# Construct a dataframe to store 50 hot submissions \n",
    "subreddit = reddit.subreddit('ukraine')\n",
    "rising_subreddit = subreddit.rising(limit=50)\n",
    "\n",
    "data_rising_ukraine = []\n",
    "for submission in rising_subreddit:\n",
    "    #pprint.pprint(vars(submission))\n",
    "    data_rising_ukraine.append([submission.subreddit_name_prefixed,submission.name, submission.created_utc, submission.title, submission.id,\n",
    "          submission.spoiler, submission.clicked,\n",
    "          submission.num_comments, submission.score, submission.downs, submission.ups, submission.upvote_ratio,\n",
    "          submission.url])\n",
    "# Store the tweets into a dataframe\n",
    "columns = ['subreddit_name','submission.name','created_utc','title','submission_id',\n",
    "           'if_spoiler','if_clicked','num_comments','score','downs','ups','upvote_ratio','url']\n",
    "df_data_rising_ukraine = pd.DataFrame(data_rising_ukraine, columns = columns)"
   ]
  },
  {
   "cell_type": "code",
   "execution_count": 69,
   "id": "462c4a3d",
   "metadata": {},
   "outputs": [
    {
     "data": {
      "text/plain": [
       "(25, 13)"
      ]
     },
     "execution_count": 69,
     "metadata": {},
     "output_type": "execute_result"
    }
   ],
   "source": [
    "df_data_rising_ukraine.shape"
   ]
  },
  {
   "cell_type": "code",
   "execution_count": 70,
   "id": "049a2c52",
   "metadata": {},
   "outputs": [],
   "source": [
    "# merge on the submission_id column to filter the duplicate submissions\n",
    "d_ukraine = pd.merge(df_data_hot_ukraine,df_data_rising_ukraine, on = ['submission_id'])"
   ]
  },
  {
   "cell_type": "code",
   "execution_count": 71,
   "id": "b9ef0e4a",
   "metadata": {},
   "outputs": [
    {
     "data": {
      "text/plain": [
       "(5, 25)"
      ]
     },
     "execution_count": 71,
     "metadata": {},
     "output_type": "execute_result"
    }
   ],
   "source": [
    "# see the number of duplicate submissions\n",
    "d_ukraine.shape"
   ]
  },
  {
   "cell_type": "code",
   "execution_count": 72,
   "id": "0334f6ea",
   "metadata": {},
   "outputs": [
    {
     "data": {
      "text/html": [
       "<div>\n",
       "<style scoped>\n",
       "    .dataframe tbody tr th:only-of-type {\n",
       "        vertical-align: middle;\n",
       "    }\n",
       "\n",
       "    .dataframe tbody tr th {\n",
       "        vertical-align: top;\n",
       "    }\n",
       "\n",
       "    .dataframe thead th {\n",
       "        text-align: right;\n",
       "    }\n",
       "</style>\n",
       "<table border=\"1\" class=\"dataframe\">\n",
       "  <thead>\n",
       "    <tr style=\"text-align: right;\">\n",
       "      <th></th>\n",
       "      <th>subreddit_name_x</th>\n",
       "      <th>submission.name_x</th>\n",
       "      <th>created_utc_x</th>\n",
       "      <th>title_x</th>\n",
       "      <th>submission_id</th>\n",
       "      <th>if_spoiler_x</th>\n",
       "      <th>if_clicked_x</th>\n",
       "      <th>num_comments_x</th>\n",
       "      <th>score_x</th>\n",
       "      <th>downs_x</th>\n",
       "      <th>...</th>\n",
       "      <th>created_utc_y</th>\n",
       "      <th>title_y</th>\n",
       "      <th>if_spoiler_y</th>\n",
       "      <th>if_clicked_y</th>\n",
       "      <th>num_comments_y</th>\n",
       "      <th>score_y</th>\n",
       "      <th>downs_y</th>\n",
       "      <th>ups_y</th>\n",
       "      <th>upvote_ratio_y</th>\n",
       "      <th>url_y</th>\n",
       "    </tr>\n",
       "  </thead>\n",
       "  <tbody>\n",
       "    <tr>\n",
       "      <th>0</th>\n",
       "      <td>r/ukraine</td>\n",
       "      <td>t3_uboygz</td>\n",
       "      <td>1.650904e+09</td>\n",
       "      <td>You may not have known, but there are skate tr...</td>\n",
       "      <td>uboygz</td>\n",
       "      <td>False</td>\n",
       "      <td>False</td>\n",
       "      <td>578</td>\n",
       "      <td>21269</td>\n",
       "      <td>0</td>\n",
       "      <td>...</td>\n",
       "      <td>1.650904e+09</td>\n",
       "      <td>You may not have known, but there are skate tr...</td>\n",
       "      <td>False</td>\n",
       "      <td>False</td>\n",
       "      <td>579</td>\n",
       "      <td>21319</td>\n",
       "      <td>0</td>\n",
       "      <td>21319</td>\n",
       "      <td>0.94</td>\n",
       "      <td>https://v.redd.it/ojuj63cfapv81</td>\n",
       "    </tr>\n",
       "    <tr>\n",
       "      <th>1</th>\n",
       "      <td>r/ukraine</td>\n",
       "      <td>t3_ubst0u</td>\n",
       "      <td>1.650914e+09</td>\n",
       "      <td>Taiwanese man now fighting for Ukraine's forei...</td>\n",
       "      <td>ubst0u</td>\n",
       "      <td>False</td>\n",
       "      <td>False</td>\n",
       "      <td>203</td>\n",
       "      <td>5727</td>\n",
       "      <td>0</td>\n",
       "      <td>...</td>\n",
       "      <td>1.650914e+09</td>\n",
       "      <td>Taiwanese man now fighting for Ukraine's forei...</td>\n",
       "      <td>False</td>\n",
       "      <td>False</td>\n",
       "      <td>203</td>\n",
       "      <td>5754</td>\n",
       "      <td>0</td>\n",
       "      <td>5754</td>\n",
       "      <td>0.98</td>\n",
       "      <td>https://i.redd.it/jg89o78s4qv81.jpg</td>\n",
       "    </tr>\n",
       "    <tr>\n",
       "      <th>2</th>\n",
       "      <td>r/ukraine</td>\n",
       "      <td>t3_ubta2o</td>\n",
       "      <td>1.650915e+09</td>\n",
       "      <td>Meet Oksana. A medic from Lisichansk, which ex...</td>\n",
       "      <td>ubta2o</td>\n",
       "      <td>False</td>\n",
       "      <td>False</td>\n",
       "      <td>98</td>\n",
       "      <td>2502</td>\n",
       "      <td>0</td>\n",
       "      <td>...</td>\n",
       "      <td>1.650915e+09</td>\n",
       "      <td>Meet Oksana. A medic from Lisichansk, which ex...</td>\n",
       "      <td>False</td>\n",
       "      <td>False</td>\n",
       "      <td>98</td>\n",
       "      <td>2504</td>\n",
       "      <td>0</td>\n",
       "      <td>2504</td>\n",
       "      <td>0.99</td>\n",
       "      <td>https://v.redd.it/aya1cav88qv81</td>\n",
       "    </tr>\n",
       "    <tr>\n",
       "      <th>3</th>\n",
       "      <td>r/ukraine</td>\n",
       "      <td>t3_ubw071</td>\n",
       "      <td>1.650922e+09</td>\n",
       "      <td>Russia accuses Romania and Ukraine of attackin...</td>\n",
       "      <td>ubw071</td>\n",
       "      <td>False</td>\n",
       "      <td>False</td>\n",
       "      <td>171</td>\n",
       "      <td>391</td>\n",
       "      <td>0</td>\n",
       "      <td>...</td>\n",
       "      <td>1.650922e+09</td>\n",
       "      <td>Russia accuses Romania and Ukraine of attackin...</td>\n",
       "      <td>False</td>\n",
       "      <td>False</td>\n",
       "      <td>174</td>\n",
       "      <td>401</td>\n",
       "      <td>0</td>\n",
       "      <td>401</td>\n",
       "      <td>0.97</td>\n",
       "      <td>https://www.g4media.ro/oficial-rus-acuza-roman...</td>\n",
       "    </tr>\n",
       "    <tr>\n",
       "      <th>4</th>\n",
       "      <td>r/ukraine</td>\n",
       "      <td>t3_ubwhi6</td>\n",
       "      <td>1.650923e+09</td>\n",
       "      <td>Defense Secretary Lloyd Austin says the US aim...</td>\n",
       "      <td>ubwhi6</td>\n",
       "      <td>False</td>\n",
       "      <td>False</td>\n",
       "      <td>58</td>\n",
       "      <td>295</td>\n",
       "      <td>0</td>\n",
       "      <td>...</td>\n",
       "      <td>1.650923e+09</td>\n",
       "      <td>Defense Secretary Lloyd Austin says the US aim...</td>\n",
       "      <td>False</td>\n",
       "      <td>False</td>\n",
       "      <td>60</td>\n",
       "      <td>301</td>\n",
       "      <td>0</td>\n",
       "      <td>301</td>\n",
       "      <td>0.99</td>\n",
       "      <td>https://news.yahoo.com/defense-secretary-lloyd...</td>\n",
       "    </tr>\n",
       "  </tbody>\n",
       "</table>\n",
       "<p>5 rows × 25 columns</p>\n",
       "</div>"
      ],
      "text/plain": [
       "  subreddit_name_x submission.name_x  created_utc_x  \\\n",
       "0        r/ukraine         t3_uboygz   1.650904e+09   \n",
       "1        r/ukraine         t3_ubst0u   1.650914e+09   \n",
       "2        r/ukraine         t3_ubta2o   1.650915e+09   \n",
       "3        r/ukraine         t3_ubw071   1.650922e+09   \n",
       "4        r/ukraine         t3_ubwhi6   1.650923e+09   \n",
       "\n",
       "                                             title_x submission_id  \\\n",
       "0  You may not have known, but there are skate tr...        uboygz   \n",
       "1  Taiwanese man now fighting for Ukraine's forei...        ubst0u   \n",
       "2  Meet Oksana. A medic from Lisichansk, which ex...        ubta2o   \n",
       "3  Russia accuses Romania and Ukraine of attackin...        ubw071   \n",
       "4  Defense Secretary Lloyd Austin says the US aim...        ubwhi6   \n",
       "\n",
       "   if_spoiler_x  if_clicked_x  num_comments_x  score_x  downs_x  ...  \\\n",
       "0         False         False             578    21269        0  ...   \n",
       "1         False         False             203     5727        0  ...   \n",
       "2         False         False              98     2502        0  ...   \n",
       "3         False         False             171      391        0  ...   \n",
       "4         False         False              58      295        0  ...   \n",
       "\n",
       "   created_utc_y                                            title_y  \\\n",
       "0   1.650904e+09  You may not have known, but there are skate tr...   \n",
       "1   1.650914e+09  Taiwanese man now fighting for Ukraine's forei...   \n",
       "2   1.650915e+09  Meet Oksana. A medic from Lisichansk, which ex...   \n",
       "3   1.650922e+09  Russia accuses Romania and Ukraine of attackin...   \n",
       "4   1.650923e+09  Defense Secretary Lloyd Austin says the US aim...   \n",
       "\n",
       "  if_spoiler_y if_clicked_y num_comments_y  score_y downs_y  ups_y  \\\n",
       "0        False        False            579    21319       0  21319   \n",
       "1        False        False            203     5754       0   5754   \n",
       "2        False        False             98     2504       0   2504   \n",
       "3        False        False            174      401       0    401   \n",
       "4        False        False             60      301       0    301   \n",
       "\n",
       "   upvote_ratio_y                                              url_y  \n",
       "0            0.94                    https://v.redd.it/ojuj63cfapv81  \n",
       "1            0.98                https://i.redd.it/jg89o78s4qv81.jpg  \n",
       "2            0.99                    https://v.redd.it/aya1cav88qv81  \n",
       "3            0.97  https://www.g4media.ro/oficial-rus-acuza-roman...  \n",
       "4            0.99  https://news.yahoo.com/defense-secretary-lloyd...  \n",
       "\n",
       "[5 rows x 25 columns]"
      ]
     },
     "execution_count": 72,
     "metadata": {},
     "output_type": "execute_result"
    }
   ],
   "source": [
    "# see duplicate submissions\n",
    "d_ukraine"
   ]
  },
  {
   "cell_type": "markdown",
   "id": "d70dcaad",
   "metadata": {},
   "source": [
    "## Rules of subreddits"
   ]
  },
  {
   "cell_type": "markdown",
   "id": "56983cb0",
   "metadata": {},
   "source": [
    "**1. r/ukrainewar**"
   ]
  },
  {
   "cell_type": "code",
   "execution_count": 126,
   "id": "9b45d967",
   "metadata": {},
   "outputs": [
    {
     "name": "stdout",
     "output_type": "stream",
     "text": [
      "User Verbatim Titles 2022-03-19 05:19:25\n",
      "Post from reliable news sources 2022-03-19 05:20:48\n",
      "Be polite 2022-03-20 14:34:10\n",
      "English language comments 2022-03-26 16:17:03\n"
     ]
    }
   ],
   "source": [
    "subreddit = reddit.subreddit('ukrainewar')\n",
    "for rule in subreddit.rules:\n",
    "    print(rule.short_name, datetime.datetime.fromtimestamp(rule.created_utc)) # convert Unix time to datetime\n",
    "    #pprint.pprint(vars(subreddit.rules))"
   ]
  },
  {
   "cell_type": "markdown",
   "id": "96f8d851",
   "metadata": {},
   "source": [
    "**2. r/ukrainianconflict**"
   ]
  },
  {
   "cell_type": "code",
   "execution_count": 127,
   "id": "8804076e",
   "metadata": {},
   "outputs": [
    {
     "name": "stdout",
     "output_type": "stream",
     "text": [
      "Limit poorly evidenced/emotive/biased submissions 2016-01-26 04:14:38\n",
      "Submissions should contribute to discussion 2016-01-26 04:15:59\n",
      "No personal attacks, abusive language, or bigotry 2016-01-26 04:16:23\n",
      "Use verbatim titles 2016-01-26 04:17:00\n",
      "Use descriptive titles 2016-01-26 04:18:01\n",
      "Do not editorialize 2022-02-28 08:17:29\n",
      "Doxxing 2022-02-28 08:19:00\n",
      "No screenshots / direct links required 2022-02-28 08:20:10\n",
      "Tag NSFW / NSFL Content 2022-02-28 08:23:19\n",
      "No Crossposts 2022-03-03 09:21:20\n"
     ]
    }
   ],
   "source": [
    "subreddit = reddit.subreddit('ukrainianconflict')\n",
    "for rule in subreddit.rules:\n",
    "    print(rule.short_name, datetime.datetime.fromtimestamp(rule.created_utc)) # convert Unix time to datetime"
   ]
  },
  {
   "cell_type": "markdown",
   "id": "60f94ed5",
   "metadata": {},
   "source": [
    "**3. r/ukraine**"
   ]
  },
  {
   "cell_type": "code",
   "execution_count": 128,
   "id": "4971eba1",
   "metadata": {},
   "outputs": [
    {
     "name": "stdout",
     "output_type": "stream",
     "text": [
      "Do Not Share Information About Location and Movements of Ukrainian Armed Forces 2022-02-26 06:44:38\n",
      "Propaganda, Fakes 2018-06-06 09:01:40\n",
      "Use of Questionable Sources 2018-06-06 09:09:27\n",
      "Glorification of Communism, Nazism, or Other Totalitarian Regimes 2020-07-01 14:16:45\n",
      "Trolling, Provocation, Flaming 2018-06-06 08:52:28\n",
      "Irrelevant or Off Topic 2018-06-06 09:03:57\n",
      "Advertising 2018-06-06 08:48:49\n",
      "No Memes(*) 2022-03-04 11:04:33\n",
      "Languages 2020-07-17 15:35:54\n",
      "Repost 2022-03-24 15:31:05\n"
     ]
    }
   ],
   "source": [
    "subreddit = reddit.subreddit('ukraine')\n",
    "for rule in subreddit.rules:\n",
    "    print(rule.short_name, datetime.datetime.fromtimestamp(rule.created_utc)) # convert Unix time to datetime"
   ]
  }
 ],
 "metadata": {
  "kernelspec": {
   "display_name": "Python 3 (ipykernel)",
   "language": "python",
   "name": "python3"
  },
  "language_info": {
   "codemirror_mode": {
    "name": "ipython",
    "version": 3
   },
   "file_extension": ".py",
   "mimetype": "text/x-python",
   "name": "python",
   "nbconvert_exporter": "python",
   "pygments_lexer": "ipython3",
   "version": "3.7.7"
  }
 },
 "nbformat": 4,
 "nbformat_minor": 5
}
